{
 "cells": [
  {
   "cell_type": "code",
   "execution_count": 2,
   "metadata": {},
   "outputs": [],
   "source": [
    "%matplotlib inline"
   ]
  },
  {
   "cell_type": "code",
   "execution_count": 9,
   "metadata": {},
   "outputs": [
    {
     "data": {
      "image/png": "[encoded data removed]",
      "text/plain": [
       "<matplotlib.figure.Figure at 0x9349c18>"
      ]
     },
     "metadata": {},
     "output_type": "display_data"
    }
   ],
   "source": [
    "import matplotlib\n",
    "import matplotlib.pyplot as plt\n",
    "import numpy as np\n",
    "\n",
    "m = np.random.rand(10,10)\n",
    "x = np.random.rand(1,m.shape[1])\n",
    "y = np.random.rand(m.shape[0],1)\n",
    "\n",
    "norm = matplotlib.colors.Normalize(vmin=0, vmax=1)\n",
    "grid = dict(height_ratios=[1, m.shape[0]], width_ratios=[1,m.shape[0], 0.5 ])\n",
    "fig, axes = plt.subplots(ncols=3, nrows=2, gridspec_kw = grid)\n",
    "\n",
    "#axes[1,1].imshow(m, aspect=\"auto\", cmap=\"viridis\", norm=norm)\n",
    "axes[0,1].imshow(x, aspect=\"auto\", cmap=\"viridis\", norm=norm)\n",
    "axes[1,0].imshow(y, aspect=\"auto\", cmap=\"viridis\", norm=norm)\n",
    "\n",
    "axes[0,0].axis(\"off\")\n",
    "axes[0,2].axis(\"off\")\n",
    "\n",
    "axes[1,1].set_xlabel('Number 1')\n",
    "axes[1,1].set_ylabel('Number 2')\n",
    "for ax in [axes[1,1], axes[0,1], axes[1,0]]:\n",
    "    ax.set_xticks([]); ax.set_yticks([])\n",
    "\n",
    "sm = matplotlib.cm.ScalarMappable(cmap=\"viridis\", norm=norm)\n",
    "sm.set_array([])\n",
    "\n",
    "fig.colorbar(sm, cax=axes[1,2]) \n",
    "\n",
    "plt.show()"
   ]
  },
  {
   "cell_type": "code",
   "execution_count": 10,
   "metadata": {},
   "outputs": [
    {
     "data": {
      "text/plain": [
       "array([[0.89962175, 0.79702065, 0.8766899 , 0.10965564, 0.92306786,\n",
       "        0.66281343, 0.03692186, 0.68769203, 0.43056263, 0.37828488]])"
      ]
     },
     "execution_count": 10,
     "metadata": {},
     "output_type": "execute_result"
    }
   ],
   "source": [
    "x"
   ]
  },
  {
   "cell_type": "code",
   "execution_count": 23,
   "metadata": {},
   "outputs": [],
   "source": [
    "def _modify_legend_ax(ax, font_family):\n",
    "    for d in ['top', 'bottom', 'right', 'left']:\n",
    "        ax.spines[d].set_visible(False)\n",
    "\n",
    "    for tick in ax.get_xticklabels():\n",
    "        tick.set_fontname(font_family)\n",
    "    for tick in ax.get_yticklabels():\n",
    "        tick.set_fontname(font_family)\n",
    "\n",
    "    ax.set_facecolor('white')\n",
    "    ax.set_xticks(range(10))\n",
    "    ax.set_yticks([])"
   ]
  },
  {
   "cell_type": "code",
   "execution_count": 28,
   "metadata": {},
   "outputs": [
    {
     "data": {
      "image/png": "[encoded data removed]",
      "text/plain": [
       "<matplotlib.figure.Figure at 0x9479978>"
      ]
     },
     "metadata": {},
     "output_type": "display_data"
    }
   ],
   "source": [
    "import matplotlib\n",
    "import matplotlib.pyplot as plt\n",
    "import numpy as np\n",
    "\n",
    "x = np.random.rand(1, 100)\n",
    "norm = matplotlib.colors.Normalize(vmin=0, vmax=1)\n",
    "\n",
    "plt.figure(figsize=(10, 0.5))\n",
    "ax = plt.subplot(1, 1, 1)\n",
    "ax.imshow(x, aspect=\"equal\", cmap=\"Blues\", norm=norm)\n",
    "_modify_legend_ax(ax, font_family='Arial')"
   ]
  },
  {
   "cell_type": "code",
   "execution_count": 27,
   "metadata": {},
   "outputs": [
    {
     "data": {
      "text/plain": [
       "array([0.01010101, 0.01010101, 0.01010101, 0.01010101, 0.01010101,\n",
       "       0.01010101, 0.01010101, 0.01010101, 0.01010101, 0.01010101,\n",
       "       0.01010101, 0.01010101, 0.01010101, 0.01010101, 0.01010101,\n",
       "       0.01010101, 0.01010101, 0.01010101, 0.01010101, 0.01010101,\n",
       "       0.01010101, 0.01010101, 0.01010101, 0.01010101, 0.01010101,\n",
       "       0.01010101, 0.01010101, 0.01010101, 0.01010101, 0.01010101,\n",
       "       0.01010101, 0.01010101, 0.01010101, 0.01010101, 0.01010101,\n",
       "       0.01010101, 0.01010101, 0.01010101, 0.01010101, 0.01010101,\n",
       "       0.01010101, 0.01010101, 0.01010101, 0.01010101, 0.01010101,\n",
       "       0.01010101, 0.01010101, 0.01010101, 0.01010101, 0.01010101,\n",
       "       0.01010101, 0.01010101, 0.01010101, 0.01010101, 0.01010101,\n",
       "       0.01010101, 0.01010101, 0.01010101, 0.01010101, 0.01010101,\n",
       "       0.01010101, 0.01010101, 0.01010101, 0.01010101, 0.01010101,\n",
       "       0.01010101, 0.01010101, 0.01010101, 0.01010101, 0.01010101,\n",
       "       0.01010101, 0.01010101, 0.01010101, 0.01010101, 0.01010101,\n",
       "       0.01010101, 0.01010101, 0.01010101, 0.01010101, 0.01010101,\n",
       "       0.01010101, 0.01010101, 0.01010101, 0.01010101, 0.01010101,\n",
       "       0.01010101, 0.01010101, 0.01010101, 0.01010101, 0.01010101,\n",
       "       0.01010101, 0.01010101, 0.01010101, 0.01010101, 0.01010101,\n",
       "       0.01010101, 0.01010101, 0.01010101, 0.01010101, 0.01010101])"
      ]
     },
     "execution_count": 27,
     "metadata": {},
     "output_type": "execute_result"
    }
   ],
   "source": [
    "np.histogram(range(100), bins=100, normed=True)[0]"
   ]
  }
 ],
 "metadata": {
  "kernelspec": {
   "display_name": "Python 2",
   "language": "python",
   "name": "python2"
  },
  "language_info": {
   "codemirror_mode": {
    "name": "ipython",
    "version": 2
   },
   "file_extension": ".py",
   "mimetype": "text/x-python",
   "name": "python",
   "nbconvert_exporter": "python",
   "pygments_lexer": "ipython2",
   "version": "2.7.14"
  }
 },
 "nbformat": 4,
 "nbformat_minor": 2
}
