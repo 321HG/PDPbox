{
 "cells": [
  {
   "cell_type": "code",
   "execution_count": 1,
   "metadata": {},
   "outputs": [
    {
     "name": "stderr",
     "output_type": "stream",
     "text": [
      "C:\\Users\\jiangchun.li.ext.AXA-DIL\\AppData\\Local\\Continuum\\anaconda2\\lib\\site-packages\\matplotlib\\cbook\\deprecation.py:106: MatplotlibDeprecationWarning: The mpl_toolkits.axes_grid module was deprecated in version 2.1. Use mpl_toolkits.axes_grid1 and mpl_toolkits.axisartist provies the same functionality instead.\n",
      "  warnings.warn(message, mplDeprecation, stacklevel=1)\n"
     ]
    }
   ],
   "source": [
    "import sys\n",
    "sys.path.insert(0, '../../')\n",
    "\n",
    "import joblib\n",
    "import pandas as pd\n",
    "import numpy as np\n",
    "\n",
    "from pdpbox.info_plots import target_plot\n",
    "import matplotlib.pyplot as plt\n",
    "import seaborn as sns\n",
    "\n",
    "%matplotlib inline"
   ]
  },
  {
   "cell_type": "markdown",
   "metadata": {},
   "source": [
    "## test multi-class classifier"
   ]
  },
  {
   "cell_type": "code",
   "execution_count": 2,
   "metadata": {},
   "outputs": [],
   "source": [
    "test_otto = joblib.load('test_otto.pkl')\n",
    "\n",
    "otto_data = test_otto['data']\n",
    "otto_features = test_otto['features']\n",
    "otto_target = test_otto['target']\n",
    "otto_model = test_otto['rf_model']"
   ]
  },
  {
   "cell_type": "markdown",
   "metadata": {},
   "source": [
    "#### (model: multi-class, feature_type: numeric)"
   ]
  },
  {
   "cell_type": "code",
   "execution_count": null,
   "metadata": {},
   "outputs": [],
   "source": [
    "axes = target_plot(df=otto_data, feature='feat_67', feature_name='feat_67', target='target_0', figsize=(12, 8))"
   ]
  },
  {
   "cell_type": "code",
   "execution_count": null,
   "metadata": {},
   "outputs": [],
   "source": [
    "# show percentile\n",
    "# modify returned axes\n",
    "axes = target_plot(df=otto_data, feature='feat_67', feature_name='feat_67', target='target_0', \n",
    "                   show_percentile=True, figsize=(15, 8))\n",
    "_ = axes[0].se\n",
    "_ = axes[2].set_ylabel('target_0 rate')"
   ]
  },
  {
   "cell_type": "code",
   "execution_count": null,
   "metadata": {},
   "outputs": [],
   "source": [
    "# multiple targets\n",
    "axes = target_plot(df=otto_data, feature='feat_67', feature_name='feat_67', target=['target_%d' %(i) for i in range(9)], \n",
    "                   show_percentile=True, figsize=(15, 8))"
   ]
  },
  {
   "cell_type": "code",
   "execution_count": null,
   "metadata": {},
   "outputs": [],
   "source": [
    "# subset of targets\n",
    "axes = target_plot(df=otto_data, feature='feat_67', feature_name='feat_67', \n",
    "                   target=['target_%d' %(i) for i in [2, 5, 8]], show_percentile=True, figsize=(15, 8))"
   ]
  },
  {
   "cell_type": "code",
   "execution_count": null,
   "metadata": {},
   "outputs": [],
   "source": [
    "axes = target_plot(df=otto_data, feature='feat_32', feature_name='feat_32', target=['target_2', 'target_3', 'target_4'], \n",
    "                   num_grid_points=20, show_percentile=True, figsize=(15, 8))"
   ]
  },
  {
   "cell_type": "code",
   "execution_count": null,
   "metadata": {},
   "outputs": [],
   "source": [
    "# percentile_range\n",
    "axes = target_plot(df=otto_data, feature='feat_67', feature_name='feat_67', target=['target_2', 'target_5', 'target_8'], \n",
    "                   num_grid_points=10, grid_type='percentile', percentile_range=(5, 95), figsize=(15, 8), show_percentile=True)"
   ]
  },
  {
   "cell_type": "code",
   "execution_count": null,
   "metadata": {},
   "outputs": [],
   "source": [
    "# equal grid_type\n",
    "axes = target_plot(df=otto_data, feature='feat_67', feature_name='feat_67', target=['target_2', 'target_5', 'target_8'], \n",
    "                   num_grid_points=10, grid_type='equal', figsize=(15, 8))"
   ]
  },
  {
   "cell_type": "code",
   "execution_count": null,
   "metadata": {},
   "outputs": [],
   "source": [
    "# grid_range\n",
    "axes = target_plot(df=otto_data, feature='feat_67', feature_name='feat_67', target=['target_2', 'target_5', 'target_8'], \n",
    "                   num_grid_points=11, grid_type='equal', grid_range=(0, 10),  figsize=(15, 8))"
   ]
  },
  {
   "cell_type": "code",
   "execution_count": null,
   "metadata": {},
   "outputs": [],
   "source": [
    "# customized grid points\n",
    "axes = target_plot(df=otto_data, feature='feat_67', feature_name='feat_67', target=['target_2', 'target_5', 'target_8'], \n",
    "                   cust_grid_points=range(0, 100, 10), figsize=(15, 8))"
   ]
  },
  {
   "cell_type": "code",
   "execution_count": null,
   "metadata": {},
   "outputs": [],
   "source": [
    "# provide the Axes to plot on\n",
    "fig, axes = plt.subplots(1, 2, figsize=(16, 6))\n",
    "sns.set_style('whitegrid')\n",
    "ax1 = sns.distplot(otto_data['feat_67'].values, color='#5BB573', ax=axes[0])\n",
    "ax1.set_title('feat_67 distribution\\n')\n",
    "ax1.set_xlabel('feat_67')\n",
    "ax2 = target_plot(df=otto_data, feature='feat_67', feature_name='feat_67', target='target_0', ax=axes[1])"
   ]
  },
  {
   "cell_type": "code",
   "execution_count": null,
   "metadata": {},
   "outputs": [],
   "source": [
    "# use plot params\n",
    "plot_params = {\n",
    "    'font_family': 'Verdana',\n",
    "    'title': 'Class rate through different feat_67 values',\n",
    "    'subtitle': 'Average class rate through different feat_67 values',\n",
    "    'title_fontsize': 15,\n",
    "    'subtitle_fontsize': 10,\n",
    "    'line_color': '#3288bd',\n",
    "    'bar_color': 'lightblue',\n",
    "    'line_width': 1,\n",
    "    'xticks_rotation': 90\n",
    "}\n",
    "axes = target_plot(df=otto_data, feature='feat_67', feature_name='feat_67', \n",
    "                   target=['target_2', 'target_5', 'target_8'], plot_params=plot_params, figsize=(15, 8))"
   ]
  },
  {
   "cell_type": "markdown",
   "metadata": {},
   "source": [
    "# test target plot interact"
   ]
  },
  {
   "cell_type": "code",
   "execution_count": 3,
   "metadata": {},
   "outputs": [],
   "source": [
    "from pdpbox.info_plots import target_plot_interact"
   ]
  },
  {
   "cell_type": "code",
   "execution_count": 5,
   "metadata": {},
   "outputs": [
    {
     "data": {
      "image/png": "[encoded data removed]",
      "text/plain": [
       "<matplotlib.figure.Figure at 0x1edab940>"
      ]
     },
     "metadata": {},
     "output_type": "display_data"
    },
    {
     "data": {
      "image/png": "[encoded data removed]",
      "text/plain": [
       "<matplotlib.figure.Figure at 0x1959f780>"
      ]
     },
     "metadata": {},
     "output_type": "display_data"
    },
    {
     "data": {
      "image/png": "[encoded data removed]",
      "text/plain": [
       "<matplotlib.figure.Figure at 0x1959fcc0>"
      ]
     },
     "metadata": {},
     "output_type": "display_data"
    }
   ],
   "source": [
    "axes = target_plot_interact(df=otto_data, features=['feat_67', 'feat_32'], feature_names=['feat_67', 'feat_32'], \n",
    "                            target=['target_0', 'target_2'], figsize=(14, 8))"
   ]
  },
  {
   "cell_type": "code",
   "execution_count": null,
   "metadata": {},
   "outputs": [],
   "source": [
    "axes = target_plot_interact(df=otto_data, features=['feat_67', 'feat_32'], feature_names=['feat_67', 'feat_32'], \n",
    "                            target=['target_0', 'target_2'], show_percentile=True, figsize=(14, 8))"
   ]
  },
  {
   "cell_type": "code",
   "execution_count": null,
   "metadata": {},
   "outputs": [],
   "source": []
  },
  {
   "cell_type": "code",
   "execution_count": null,
   "metadata": {},
   "outputs": [],
   "source": []
  }
 ],
 "metadata": {
  "kernelspec": {
   "display_name": "Python 2",
   "language": "python",
   "name": "python2"
  },
  "language_info": {
   "codemirror_mode": {
    "name": "ipython",
    "version": 2
   },
   "file_extension": ".py",
   "mimetype": "text/x-python",
   "name": "python",
   "nbconvert_exporter": "python",
   "pygments_lexer": "ipython2",
   "version": "2.7.14"
  }
 },
 "nbformat": 4,
 "nbformat_minor": 2
}
