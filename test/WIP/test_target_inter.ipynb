{
 "cells": [
  {
   "cell_type": "code",
   "execution_count": 1,
   "metadata": {},
   "outputs": [],
   "source": [
    "import sys\n",
    "sys.path.insert(0, '../../')\n",
    "\n",
    "import joblib\n",
    "import pandas as pd\n",
    "import numpy as np\n",
    "\n",
    "from pdpbox.info_plots import target_plot_interact\n",
    "import matplotlib.pyplot as plt\n",
    "import seaborn as sns\n",
    "\n",
    "%matplotlib inline"
   ]
  },
  {
   "cell_type": "markdown",
   "metadata": {},
   "source": [
    "## test binary classifier"
   ]
  },
  {
   "cell_type": "code",
   "execution_count": 2,
   "metadata": {},
   "outputs": [],
   "source": [
    "test_titanic = joblib.load('test_titanic.pkl')\n",
    "\n",
    "titanic_data = test_titanic['data']\n",
    "titanic_features = test_titanic['features']\n",
    "titanic_target = test_titanic['target']\n",
    "titanic_model = test_titanic['xgb_model']"
   ]
  },
  {
   "cell_type": "code",
   "execution_count": 3,
   "metadata": {},
   "outputs": [
    {
     "data": {
      "image/png": "[encoded data removed]",
      "text/plain": [
       "<matplotlib.figure.Figure at 0xc8f7b00>"
      ]
     },
     "metadata": {},
     "output_type": "display_data"
    },
    {
     "data": {
      "text/plain": [
       "<matplotlib.figure.Figure at 0xca47e80>"
      ]
     },
     "metadata": {},
     "output_type": "display_data"
    },
    {
     "data": {
      "image/png": "[encoded data removed]",
      "text/plain": [
       "<matplotlib.figure.Figure at 0xca593c8>"
      ]
     },
     "metadata": {},
     "output_type": "display_data"
    }
   ],
   "source": [
    "axes = target_plot_interact(df=titanic_data, features=['Sex', ['Embarked_C', 'Embarked_Q', 'Embarked_S']], \n",
    "                            feature_names=['Sex', 'Embarked'], target=titanic_target, \n",
    "                            num_grid_points=None, grid_types=None, percentile_ranges=None, grid_ranges=None, \n",
    "                            cust_grid_points=None, show_percentile=False, figsize=None, ax=None, ncols=2, plot_params=None)"
   ]
  },
  {
   "cell_type": "code",
   "execution_count": null,
   "metadata": {},
   "outputs": [],
   "source": [
    "_, value_ax = plt.subplots(nrows=1, ncols=1, sharex='col', sharey='row')"
   ]
  },
  {
   "cell_type": "code",
   "execution_count": null,
   "metadata": {},
   "outputs": [],
   "source": [
    "value_ax"
   ]
  },
  {
   "cell_type": "code",
   "execution_count": null,
   "metadata": {},
   "outputs": [],
   "source": [
    "np.ceil(1.4)"
   ]
  },
  {
   "cell_type": "markdown",
   "metadata": {},
   "source": [
    "#### (model: binary, feature_type: binary)"
   ]
  },
  {
   "cell_type": "code",
   "execution_count": null,
   "metadata": {},
   "outputs": [],
   "source": [
    "axes = target_plot(df=titanic_data, feature='Sex', feature_name='Sex', target=titanic_target)"
   ]
  },
  {
   "cell_type": "code",
   "execution_count": null,
   "metadata": {},
   "outputs": [],
   "source": [
    "# modify the returned axes\n",
    "axes = target_plot(df=titanic_data, feature='Sex', feature_name='Sex', target=titanic_target)\n",
    "_ = axes[1].set_xticklabels(['Female', 'Male'])\n",
    "_ = axes[2].set_ylabel('Survival Rate')"
   ]
  },
  {
   "cell_type": "markdown",
   "metadata": {},
   "source": [
    "#### (model: binary, feature_type: one-hot)"
   ]
  },
  {
   "cell_type": "code",
   "execution_count": null,
   "metadata": {},
   "outputs": [],
   "source": [
    "axes = target_plot(df=titanic_data, feature=['Embarked_C', 'Embarked_Q', 'Embarked_S'], \n",
    "                   feature_name='Embarked', target=titanic_target)"
   ]
  },
  {
   "cell_type": "markdown",
   "metadata": {},
   "source": [
    "#### (model: binary, feature_type: numeric)"
   ]
  },
  {
   "cell_type": "code",
   "execution_count": null,
   "metadata": {},
   "outputs": [],
   "source": [
    "axes = target_plot(df=titanic_data, feature='Fare', feature_name='Fare', target=titanic_target)"
   ]
  },
  {
   "cell_type": "code",
   "execution_count": null,
   "metadata": {},
   "outputs": [],
   "source": [
    "# show percentile\n",
    "axes = target_plot(df=titanic_data, feature='Fare', feature_name='Fare', target=titanic_target, show_percentile=True)"
   ]
  },
  {
   "cell_type": "code",
   "execution_count": null,
   "metadata": {},
   "outputs": [],
   "source": [
    "# better percentile grids\n",
    "axes = target_plot(df=titanic_data, feature='Fare', feature_name='Fare', target=titanic_target, \n",
    "                   show_percentile=True, num_grid_points=11)"
   ]
  },
  {
   "cell_type": "code",
   "execution_count": null,
   "metadata": {},
   "outputs": [],
   "source": [
    "# modify xticks_rotation\n",
    "axes = target_plot(df=titanic_data, feature='Fare', feature_name='Fare', target=titanic_target, \n",
    "                   num_grid_points=21, plot_params={'xticks_rotation': 45}, show_percentile=True)"
   ]
  },
  {
   "cell_type": "code",
   "execution_count": null,
   "metadata": {},
   "outputs": [],
   "source": [
    "# percentile_range\n",
    "axes = target_plot(df=titanic_data, feature='Fare', feature_name='Fare', target=titanic_target, \n",
    "                   num_grid_points=10, grid_type='percentile', percentile_range=(5, 95), show_percentile=True)"
   ]
  },
  {
   "cell_type": "code",
   "execution_count": null,
   "metadata": {},
   "outputs": [],
   "source": [
    "# equal grid type\n",
    "axes = target_plot(df=titanic_data, feature='Fare', feature_name='Fare', target=titanic_target, \n",
    "                   num_grid_points=10, grid_type='equal', show_percentile=True)"
   ]
  },
  {
   "cell_type": "code",
   "execution_count": null,
   "metadata": {},
   "outputs": [],
   "source": [
    "# grid range\n",
    "axes = target_plot(df=titanic_data, feature='Fare', feature_name='Fare', target=titanic_target, \n",
    "                   num_grid_points=10, grid_type='equal', grid_range=(5, 100))"
   ]
  },
  {
   "cell_type": "code",
   "execution_count": null,
   "metadata": {},
   "outputs": [],
   "source": [
    "# provide the Axes to plot on\n",
    "fig, axes = plt.subplots(1, 2, figsize=(16, 6))\n",
    "sns.set_style('whitegrid')\n",
    "ax1 = sns.distplot(titanic_data['Fare'].values, color='#5BB573', ax=axes[0])\n",
    "ax1.set_title('Fare distribution\\n')\n",
    "ax1.set_xlabel('Fare')\n",
    "ax2 = target_plot(df=titanic_data, feature='Fare', feature_name='Fare', target=titanic_target, \n",
    "                  ax=axes[1], show_percentile=False, plot_params={'xticks_rotation': 90})"
   ]
  },
  {
   "cell_type": "code",
   "execution_count": null,
   "metadata": {},
   "outputs": [],
   "source": [
    "# customized grid points\n",
    "axes = target_plot(df=titanic_data, feature='Fare', feature_name='Fare', target=titanic_target, \n",
    "                   cust_grid_points=range(0, 100, 10))"
   ]
  },
  {
   "cell_type": "code",
   "execution_count": null,
   "metadata": {},
   "outputs": [],
   "source": [
    "# use plot_params\n",
    "plot_params = {\n",
    "    'font_family': 'Verdana',\n",
    "    'title': 'Survival rate for different fares',\n",
    "    'subtitle': 'Average survival rate through different fare values',\n",
    "    'title_fontsize': 15,\n",
    "    'subtitle_fontsize': 10,\n",
    "    'line_color': '#3288bd',\n",
    "    'bar_color': 'lightblue',\n",
    "    'line_width': 1,\n",
    "    'xticks_rotation': 90\n",
    "}\n",
    "axes = target_plot(df=titanic_data, feature='Fare', feature_name='Fare', target=titanic_target, plot_params=plot_params)"
   ]
  }
 ],
 "metadata": {
  "kernelspec": {
   "display_name": "Python 2",
   "language": "python",
   "name": "python2"
  },
  "language_info": {
   "codemirror_mode": {
    "name": "ipython",
    "version": 2
   },
   "file_extension": ".py",
   "mimetype": "text/x-python",
   "name": "python",
   "nbconvert_exporter": "python",
   "pygments_lexer": "ipython2",
   "version": "2.7.14"
  }
 },
 "nbformat": 4,
 "nbformat_minor": 2
}
